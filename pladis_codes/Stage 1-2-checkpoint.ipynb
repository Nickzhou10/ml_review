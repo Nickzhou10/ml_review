{
 "cells": [
  {
   "cell_type": "code",
   "execution_count": null,
   "metadata": {},
   "outputs": [],
   "source": [
    "pip install catboost"
   ]
  },
  {
   "cell_type": "code",
   "execution_count": null,
   "metadata": {},
   "outputs": [],
   "source": [
    "pip install lightgbm"
   ]
  },
  {
   "cell_type": "code",
   "execution_count": null,
   "metadata": {},
   "outputs": [],
   "source": [
    "!pip install setuptools numpy scipy scikit-learn -U\n",
    "!pip install xgboost\n",
    "!pip install linearmodels\n",
    "!pip install mlxtend"
   ]
  },
  {
   "cell_type": "code",
   "execution_count": null,
   "metadata": {},
   "outputs": [],
   "source": [
    "# data analysis and wrangling\n",
    "import researchpy as rp\n",
    "import pandas as pd\n",
    "import numpy as np\n",
    "import statistics\n",
    "from itertools import chain\n",
    "# visualization\n",
    "from pandas.plotting import scatter_matrix\n",
    "from statsmodels.graphics.tsaplots import plot_acf\n",
    "import seaborn as sns\n",
    "import matplotlib\n",
    "import matplotlib.pyplot as plt\n",
    "from matplotlib.gridspec import GridSpec\n",
    "from pprint import pprint\n",
    "%matplotlib inline\n",
    "#plotly\n",
    "import plotly.io as pio\n",
    "import plotly.express as px\n",
    "from plotly.offline import download_plotlyjs,init_notebook_mode, plot, iplot\n",
    "import plotly as py \n",
    "import plotly.graph_objs as go # plotly graphical object\n",
    "import plotly.io as pio\n",
    "pio.renderers.default='notebook'\n",
    "# setting the general visualization style\n",
    "sns.set_style('whitegrid')\n",
    "# feature engineering\n",
    "from sklearn.preprocessing import StandardScaler\n",
    "from sklearn.model_selection import train_test_split\n",
    "#Libraries for Statistical Models\n",
    "import statsmodels.api as sm\n",
    "# ignoring warnings in the notebook\n",
    "import warnings \n",
    "warnings.filterwarnings('ignore') \n",
    "# To display full output \n",
    "from IPython.core.interactiveshell import InteractiveShell\n",
    "InteractiveShell.ast_node_interactivity = \"all\"\n",
    "\n",
    "# feature engineering\n",
    "import pandas_profiling as pp\n",
    "from sklearn.preprocessing import StandardScaler\n",
    "from sklearn.model_selection import train_test_split\n",
    "\n",
    "# machine learning models\n",
    "from sklearn.linear_model import Lasso,ElasticNet\n",
    "from sklearn.tree import DecisionTreeRegressor\n",
    "from sklearn.ensemble import RandomForestRegressor,AdaBoostRegressor\n",
    "from sklearn.ensemble import GradientBoostingRegressor\n",
    "from sklearn.svm import SVR\n",
    "from xgboost import XGBRegressor\n",
    "from sklearn.neural_network import MLPRegressor\n",
    "from lightgbm import LGBMRegressor\n",
    "from catboost import CatBoostRegressor\n",
    "# model selection\n",
    "from sklearn.model_selection import KFold\n",
    "from sklearn.model_selection import StratifiedKFold\n",
    "from sklearn.model_selection import cross_val_score\n",
    "from sklearn.metrics import mean_absolute_error,mean_squared_error,r2_score\n",
    "\n",
    "# Tuning and Esembling\n",
    "from sklearn.model_selection import GridSearchCV        \n",
    "from sklearn.model_selection import RandomizedSearchCV \n",
    "from mlxtend.regressor import StackingCVRegressor"
   ]
  },
  {
   "cell_type": "code",
   "execution_count": null,
   "metadata": {},
   "outputs": [],
   "source": [
    "def feature_importance(regressor, title):\n",
    "# setting up the frame\n",
    "    fig, axes = plt.subplots(figsize=(8,15))\n",
    "# setting up parameters\n",
    "    indices = np.argsort(regressor.feature_importances_)[::-1][:15]\n",
    "# ploting feature importance\n",
    "    g = sns.barplot(y=X_train.columns[indices][0:30],\n",
    "                x = regressor.feature_importances_[indices][0:15],\n",
    "                orient='h')\n",
    "# labeling\n",
    "    g.set_xlabel(\"Relative importance\",fontsize=15)\n",
    "    g.set_ylabel(\"Features\",fontsize=15)\n",
    "    g.tick_params(labelsize=9)\n",
    "    g.set_title(title + \" feature importance\");"
   ]
  },
  {
   "cell_type": "code",
   "execution_count": null,
   "metadata": {},
   "outputs": [],
   "source": [
    "def cv_score_defaultmodel(score, figure_name):\n",
    "    # creating lists to store the cv results\n",
    "    cv_results = []\n",
    "    cv_means = []\n",
    "    cv_std = []\n",
    "    # get cv results for models in the classifier list\n",
    "    for i in regressors:\n",
    "        cv_results.append(cross_val_score(i, X_train, y_train, scoring = score, cv = kfold, n_jobs = -1))\n",
    "    # calculate and append means and stdv\n",
    "    for cv_result in cv_results:\n",
    "        cv_means.append(cv_result.mean())\n",
    "        cv_std.append(cv_result.std())\n",
    "    # creating results table\n",
    "    cv_res = pd.DataFrame({'Models':['Lasso Regression',\n",
    "                                     'Elastic Nets',\n",
    "                                     'DecisionTreeRegressor',\n",
    "                                     'RandomForestRegressor',\n",
    "                                     'CatBoostRegressor',\n",
    "                                     'LightGBM Regressor',\n",
    "                                     'AdaBoostRegressor',\n",
    "                                     'XGBRegressor'],\n",
    "                                'CrossValMeans' : cv_means,\n",
    "                                 'CrossValerrors' : cv_std,})\n",
    "    # highlight the model with highest score\n",
    "    final_cvtable = cv_res.style.highlight_max(color = 'yellow', axis = 0, subset=['CrossValMeans'])\n",
    "    # plotting the cv scores for each model\n",
    "    g = sns.barplot('CrossValMeans','Models',data = cv_res, palette='Set3',orient = 'h',**{'xerr':cv_std})\n",
    "    # labeling\n",
    "    g.set_xlabel('Mean ' + score + ' Score')\n",
    "    g = g.set_title(figure_name + ' Cross validation scores' )\n",
    "    \n",
    "    return final_cvtable"
   ]
  },
  {
   "cell_type": "code",
   "execution_count": null,
   "metadata": {},
   "outputs": [],
   "source": [
    "df_cursed = pd.read_csv(\"/project/data_for_models/feature_eng_cursed.csv\",index_col=0)\n",
    "\n",
    "Target1 = pd.read_csv(\"/project/data_for_models/Target_mkt.csv\",index_col=0)\n",
    "Target2 = pd.read_csv(\"/project/data_for_models/Target_sub.csv\",index_col=0)\n",
    "\n",
    "random_state = 42\n",
    "# Split into train and validation set\n",
    "X_train, X_test, y_train, y_test = train_test_split(df_cursed,Target2,test_size=0.20, random_state=random_state,shuffle=True)\n",
    "kfold = KFold(n_splits = 3,shuffle = True)\n",
    "y_train = y_train['Excess_sales_sub'].values.ravel()\n",
    "y_test = y_test['Excess_sales_sub'].values.ravel()\n",
    "\n",
    "regressors = []\n",
    "regressors.append(Lasso(random_state=random_state))\n",
    "regressors.append(ElasticNet(random_state=random_state))\n",
    "regressors.append(DecisionTreeRegressor(random_state=random_state))\n",
    "regressors.append(RandomForestRegressor(random_state=random_state))\n",
    "regressors.append(CatBoostRegressor(random_state=random_state))\n",
    "regressors.append(LGBMRegressor(random_state=random_state))\n",
    "regressors.append(AdaBoostRegressor(random_state=random_state))\n",
    "regressors.append(XGBRegressor(random_state=random_state))"
   ]
  },
  {
   "cell_type": "code",
   "execution_count": null,
   "metadata": {},
   "outputs": [],
   "source": [
    "cross_val_score(RandomForestRegressor(random_state=random_state), X_train, y_train, scoring = 'neg_root_mean_squared_error', cv = kfold, n_jobs= -1)\n"
   ]
  },
  {
   "cell_type": "code",
   "execution_count": null,
   "metadata": {},
   "outputs": [],
   "source": [
    "cv_score_defaultmodel('neg_root_mean_squared_error', 'CURSED neg_root_mean_squared_error')"
   ]
  },
  {
   "cell_type": "code",
   "execution_count": null,
   "metadata": {},
   "outputs": [],
   "source": [
    "cv_score_defaultmodel('r2', 'CURSED r2')"
   ]
  },
  {
   "cell_type": "code",
   "execution_count": null,
   "metadata": {},
   "outputs": [],
   "source": [
    "#feature_importance(Lasso(random_state=random_state).fit(X_train, y_train) , 'Lasso')"
   ]
  },
  {
   "cell_type": "code",
   "execution_count": null,
   "metadata": {},
   "outputs": [],
   "source": [
    "#feature_importance(ElasticNet(random_state=random_state).fit(X_train, y_train) , 'ElasticNet')"
   ]
  },
  {
   "cell_type": "code",
   "execution_count": null,
   "metadata": {
    "scrolled": false
   },
   "outputs": [],
   "source": [
    "feature_importance(DecisionTreeRegressor(random_state=random_state).fit(X_train, y_train) , 'DecisionTreeRegressor')"
   ]
  },
  {
   "cell_type": "code",
   "execution_count": null,
   "metadata": {
    "scrolled": true
   },
   "outputs": [],
   "source": [
    "feature_importance(RandomForestRegressor(random_state=random_state).fit(X_train, y_train) , 'RandomForestRegressor')"
   ]
  },
  {
   "cell_type": "code",
   "execution_count": null,
   "metadata": {
    "scrolled": true
   },
   "outputs": [],
   "source": [
    "feature_importance(CatBoostRegressor(random_state=random_state).fit(X_train, y_train), 'CatBoostRegressor')"
   ]
  },
  {
   "cell_type": "code",
   "execution_count": null,
   "metadata": {},
   "outputs": [],
   "source": [
    "feature_importance(LGBMRegressor(random_state=random_state).fit(X_train, y_train), 'LGBMRegressor')"
   ]
  },
  {
   "cell_type": "code",
   "execution_count": null,
   "metadata": {
    "scrolled": false
   },
   "outputs": [],
   "source": [
    "feature_importance(AdaBoostRegressor(random_state=random_state).fit(X_train, y_train), 'AdaBoostRegressor')"
   ]
  },
  {
   "cell_type": "code",
   "execution_count": null,
   "metadata": {},
   "outputs": [],
   "source": [
    "feature_importance(XGBRegressor(random_state=random_state).fit(X_train, y_train), 'XGBRegressor')"
   ]
  },
  {
   "cell_type": "code",
   "execution_count": null,
   "metadata": {},
   "outputs": [],
   "source": []
  }
 ],
 "metadata": {
  "kernelspec": {
   "display_name": "Python 3",
   "language": "python",
   "name": "python3"
  },
  "language_info": {
   "codemirror_mode": {
    "name": "ipython",
    "version": 3
   },
   "file_extension": ".py",
   "mimetype": "text/x-python",
   "name": "python",
   "nbconvert_exporter": "python",
   "pygments_lexer": "ipython3",
   "version": "3.8.3"
  }
 },
 "nbformat": 4,
 "nbformat_minor": 2
}
