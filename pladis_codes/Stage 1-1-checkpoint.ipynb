{
 "cells": [
  {
   "cell_type": "code",
   "execution_count": null,
   "metadata": {},
   "outputs": [],
   "source": [
    "pip install researchpy"
   ]
  },
  {
   "cell_type": "code",
   "execution_count": null,
   "metadata": {},
   "outputs": [],
   "source": [
    "!pip install linearmodels"
   ]
  },
  {
   "cell_type": "code",
   "execution_count": null,
   "metadata": {},
   "outputs": [],
   "source": [
    "# data analysis and wrangling\n",
    "import researchpy as rp\n",
    "import pandas as pd\n",
    "import numpy as np\n",
    "import statistics\n",
    "from itertools import chain\n",
    "# visualization\n",
    "from pandas.plotting import scatter_matrix\n",
    "from statsmodels.graphics.tsaplots import plot_acf\n",
    "import seaborn as sns\n",
    "import matplotlib\n",
    "import matplotlib.pyplot as plt\n",
    "from matplotlib.gridspec import GridSpec\n",
    "from pprint import pprint\n",
    "%matplotlib inline\n",
    "#plotly\n",
    "import plotly.io as pio\n",
    "import plotly.express as px\n",
    "from plotly.offline import download_plotlyjs,init_notebook_mode, plot, iplot\n",
    "import plotly as py \n",
    "import plotly.graph_objs as go # plotly graphical object\n",
    "# setting the general visualization style\n",
    "sns.set_style('whitegrid')\n",
    "# feature engineering\n",
    "from sklearn.preprocessing import StandardScaler\n",
    "from sklearn.model_selection import train_test_split\n",
    "#Libraries for Statistical Models\n",
    "import statsmodels.api as sm\n",
    "# ignoring warnings in the notebook\n",
    "import warnings \n",
    "warnings.filterwarnings('ignore') \n",
    "# To display full output \n",
    "from IPython.core.interactiveshell import InteractiveShell\n",
    "InteractiveShell.ast_node_interactivity = \"all\""
   ]
  },
  {
   "cell_type": "code",
   "execution_count": null,
   "metadata": {
    "scrolled": false
   },
   "outputs": [],
   "source": [
    "SKU_new = pd.read_csv(\"/project/data_cleaning/SKU_new.csv\",index_col=0)\n",
    "df_valid = pd.read_csv(\"/project/data_cleaning/df_valid.csv\",index_col=0)\n",
    "df_reg = SKU_new[SKU_new['full_name'].isin(df_valid['full_name'].values.tolist())]\n",
    "df_reg = df_reg[~df_reg['channel'].isin(['Tesco','Sainsbury'])]\n",
    "df_reg.loc[(df_reg.channel == 'Tesco Express'),'format']='Express/Local'\n",
    "df_reg.loc[(df_reg.channel == 'Tesco excl Local'),'format']='Excl.Express/Local'\n",
    "df_reg.loc[(df_reg.channel == 'Sainsbury Local'),'format']='Express/Local'\n",
    "df_reg.loc[(df_reg.channel == 'Sainsbury excl Local'),'format']='Excl.Express/Local'\n",
    "df_reg.loc[(df_reg.date >= '2020-01-31'),'covid']='Yes'\n",
    "df_reg.loc[(df_reg.date < '2020-01-31'),'covid']='No'\n",
    "#df_reg.drop(['weight','off_shelf','units_sold','kg_sold'],axis=1)\n",
    "df_reg\n",
    "df_reg.describe()\n",
    "df_reg.to_csv(\"/project/data_cleaning/df_reg.csv\") \n",
    "df_had_promo = df_reg[~df_reg['full_name'].isin(['BSCTS DGSTV MCVTS DGSTVS PLN 400 GM SNGL',\n",
    "                                                     'BSCTS RCH T MCVTS RCH T PLN 300 GM SNGL',\n",
    "                                                     'BSCTS MLTD PRVT LBL MLTD MLK 200 GM SNGL',\n",
    "                                                     'BSCTS FG RLLS PRVT LBL FG 200 GM SNGL'])]\n",
    "\n",
    "df_had_promo\n",
    "df_had_promo.to_csv(\"/project/data_cleaning/df_had_promo.csv\") \n",
    "df_had_promo.describe()"
   ]
  },
  {
   "cell_type": "code",
   "execution_count": null,
   "metadata": {
    "scrolled": true
   },
   "outputs": [],
   "source": [
    "rp.summary_cat(df_reg[['channel','company','brand','flavour','weight','categories']])\n",
    "rp.summary_cont(df_reg[['Sales','distribution','off_shelf','price_per_unit','price_per_kg']])"
   ]
  },
  {
   "cell_type": "code",
   "execution_count": null,
   "metadata": {},
   "outputs": [],
   "source": [
    "from statsmodels.formula.api import ols\n",
    "\n",
    "model = ols(\"price_per_unit ~ C(company, Sum) + C(retailer, Sum) + C(format, Sum)+ C(covid, Sum)+C(categories, Sum) + C(company, Sum)*C(retailer, Sum)* C(format, Sum)*C(covid, Sum)*C(categories, Sum)\",\n",
    "            data=df_reg).fit()\n",
    "\n",
    "aov_table = sm.stats.anova_lm(model, typ=3)\n",
    "aov_table"
   ]
  },
  {
   "cell_type": "markdown",
   "metadata": {},
   "source": [
    "## vanilla fixed effect model"
   ]
  },
  {
   "cell_type": "code",
   "execution_count": null,
   "metadata": {},
   "outputs": [],
   "source": [
    "from linearmodels.panel import PanelOLS\n",
    "import statsmodels.api as sm\n",
    "df_reg['date'] = pd.to_datetime(df_reg['date'])\n",
    "\n",
    "df_fe=df_reg.set_index(['date'], append=True)\n",
    "exog = sm.add_constant(df_fe[['price_per_unit','price_per_kg','distribution','company','brand ']])\n",
    "fe = PanelOLS(df_fe['Sales'], exog, entity_effects=False, time_effects=True)\n",
    "fe = fe.fit()\n",
    "print(fe)"
   ]
  },
  {
   "cell_type": "markdown",
   "metadata": {},
   "source": [
    "## entity-demeaned OLS "
   ]
  },
  {
   "cell_type": "code",
   "execution_count": null,
   "metadata": {},
   "outputs": [],
   "source": [
    "\n",
    "df_demean = df.copy()\n",
    "\n",
    "# calculate the entity(state) mean \n",
    "df_demean['Mean_price'] = df_demean.groupby('full_name').price_per_unit.transform(np.mean)\n",
    "\n",
    "# calculate the entity(state) mean for fatal rate\n",
    "df_demean['Mean_fatal_rate_byState'] = df_demean.groupby('state').fatal_rate.transform(np.mean)\n",
    "\n",
    "# demean, subtract each row by the entity-mean\n",
    "df_demean[\"fatal_rate\"] = df_demean[\"fatal_rate\"] - df_demean['Mean_fatal_rate_byState']\n",
    "df_demean[\"beertax\"] = df_demean[\"beertax\"] - df_demean['Mean_beerTax_byState']\n",
    "\n",
    "model = sm.OLS(df_demean.fatal_rate, df_demean.beertax)\n",
    "results2 = model.fit()\n",
    "print(results2.summary())"
   ]
  },
  {
   "cell_type": "code",
   "execution_count": null,
   "metadata": {},
   "outputs": [],
   "source": []
  }
 ],
 "metadata": {
  "kernelspec": {
   "display_name": "Python 3",
   "language": "python",
   "name": "python3"
  },
  "language_info": {
   "codemirror_mode": {
    "name": "ipython",
    "version": 3
   },
   "file_extension": ".py",
   "mimetype": "text/x-python",
   "name": "python",
   "nbconvert_exporter": "python",
   "pygments_lexer": "ipython3",
   "version": "3.8.3"
  }
 },
 "nbformat": 4,
 "nbformat_minor": 2
}
