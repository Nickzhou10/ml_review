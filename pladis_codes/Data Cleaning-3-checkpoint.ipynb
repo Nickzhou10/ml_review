{
 "cells": [
  {
   "cell_type": "code",
   "execution_count": null,
   "metadata": {},
   "outputs": [],
   "source": [
    "# data analysis and wrangling\n",
    "from datetime import datetime\n",
    "import pandas as pd\n",
    "import numpy as np\n",
    "import statistics\n",
    "from itertools import chain\n",
    "# visualization\n",
    "from IPython.core.display import HTML\n",
    "from pandas.plotting import scatter_matrix\n",
    "from statsmodels.graphics.tsaplots import plot_acf\n",
    "import seaborn as sns\n",
    "import matplotlib\n",
    "import matplotlib.pyplot as plt\n",
    "from matplotlib.gridspec import GridSpec\n",
    "from pprint import pprint\n",
    "%matplotlib inline\n",
    "import plotly.io as pio\n",
    "pio.renderers.default='notebook'\n",
    "#plotly\n",
    "import plotly.io as pio\n",
    "import plotly.express as px\n",
    "from plotly.offline import download_plotlyjs,init_notebook_mode, plot, iplot\n",
    "import plotly as py \n",
    "import plotly.graph_objs as go # plotly graphical object\n",
    "# setting the general visualization style\n",
    "sns.set_style('whitegrid')\n",
    "# feature engineering\n",
    "from sklearn.preprocessing import StandardScaler\n",
    "from sklearn.model_selection import train_test_split\n",
    "#Libraries for Statistical Models\n",
    "import statsmodels.api as sm\n",
    "# ignoring warnings in the notebook\n",
    "import warnings \n",
    "warnings.filterwarnings('ignore') \n",
    "# To display full output \n",
    "from IPython.core.interactiveshell import InteractiveShell\n",
    "InteractiveShell.ast_node_interactivity = \"all\""
   ]
  },
  {
   "cell_type": "code",
   "execution_count": null,
   "metadata": {},
   "outputs": [],
   "source": [
    "def plotly(name, mode):\n",
    "    if mode == 1:\n",
    "        fig = px.line(df_sku[df_sku['full_name']== name],\n",
    "                  x='date', y='price_per_unit', title='Price_per_unit for '+ name,\n",
    "                  color='channel', template=\"none\")\n",
    "\n",
    "        fig.update_xaxes(\n",
    "            rangeslider_visible=True,\n",
    "            rangeselector=dict(\n",
    "                buttons=list([\n",
    "                    dict(count=1, label=\"1m\", step=\"month\", stepmode=\"backward\"),\n",
    "                    dict(count=6, label=\"6m\", step=\"month\", stepmode=\"backward\"),\n",
    "                    dict(count=1, label=\"YTD\", step=\"year\", stepmode=\"todate\"),\n",
    "                    dict(count=1, label=\"1y\", step=\"year\", stepmode=\"backward\"),\n",
    "                    dict(step=\"all\")\n",
    "                ])\n",
    "            )\n",
    "        )\n",
    "        fig.show();\n",
    "        fig = px.line(df_sku[df_sku['full_name']==name],\n",
    "                      x='date', y='Sales', title='Sales for '+ name,\n",
    "                      color='channel', template=\"none\")\n",
    "\n",
    "        fig.update_xaxes(\n",
    "            rangeslider_visible=True,\n",
    "            rangeselector=dict(\n",
    "                buttons=list([\n",
    "                    dict(count=1, label=\"1m\", step=\"month\", stepmode=\"backward\"),\n",
    "                    dict(count=6, label=\"6m\", step=\"month\", stepmode=\"backward\"),\n",
    "                    dict(count=1, label=\"YTD\", step=\"year\", stepmode=\"todate\"),\n",
    "                    dict(count=1, label=\"1y\", step=\"year\", stepmode=\"backward\"),\n",
    "                    dict(step=\"all\")\n",
    "                ])\n",
    "            )\n",
    "        )\n",
    "        fig.show();\n",
    "\n",
    "        fig = px.line(df_sku[df_sku['full_name']==name],\n",
    "                      x='date', y='units_sold', title='units_sold for '+ name,\n",
    "                      color='channel', template=\"none\")\n",
    "\n",
    "        fig.update_xaxes(\n",
    "            rangeslider_visible=True,\n",
    "            rangeselector=dict(\n",
    "                buttons=list([\n",
    "                    dict(count=1, label=\"1m\", step=\"month\", stepmode=\"backward\"),\n",
    "                    dict(count=6, label=\"6m\", step=\"month\", stepmode=\"backward\"),\n",
    "                    dict(count=1, label=\"YTD\", step=\"year\", stepmode=\"todate\"),\n",
    "                    dict(count=1, label=\"1y\", step=\"year\", stepmode=\"backward\"),\n",
    "                    dict(step=\"all\")\n",
    "                ])\n",
    "            )\n",
    "        )\n",
    "        fig.show();\n",
    "    else:\n",
    "        fig = px.line(df_sku[df_sku['full_name']== name],\n",
    "              x='date', y='price_per_unit', title='Price_per_units for '+ name,\n",
    "              color='channel', template=\"none\")\n",
    "\n",
    "        fig.update_xaxes(\n",
    "            rangeslider_visible=True,\n",
    "            rangeselector=dict(\n",
    "                buttons=list([\n",
    "                    dict(count=1, label=\"1m\", step=\"month\", stepmode=\"backward\"),\n",
    "                    dict(count=6, label=\"6m\", step=\"month\", stepmode=\"backward\"),\n",
    "                    dict(count=1, label=\"YTD\", step=\"year\", stepmode=\"todate\"),\n",
    "                    dict(count=1, label=\"1y\", step=\"year\", stepmode=\"backward\"),\n",
    "                    dict(step=\"all\")\n",
    "                ])\n",
    "            )\n",
    "        )\n",
    "        fig.show();\n"
   ]
  },
  {
   "cell_type": "code",
   "execution_count": null,
   "metadata": {},
   "outputs": [],
   "source": [
    "def plotly1(name, mode):\n",
    "    fig = px.line(df_sku[df_sku['full_name']== name],\n",
    "              x='date', y='price_per_unit', title= mode,\n",
    "              color='channel', template=\"none\")\n",
    "    fig.update_xaxes(\n",
    "        rangeslider_visible=True,\n",
    "        rangeselector=dict(\n",
    "            buttons=list([\n",
    "                dict(count=1, label=\"1m\", step=\"month\", stepmode=\"backward\"),\n",
    "                dict(count=6, label=\"6m\", step=\"month\", stepmode=\"backward\"),\n",
    "                dict(count=1, label=\"YTD\", step=\"year\", stepmode=\"todate\"),\n",
    "                dict(count=1, label=\"1y\", step=\"year\", stepmode=\"backward\"),\n",
    "                dict(step=\"all\")\n",
    "            ])\n",
    "        )\n",
    "    )\n",
    "    fig.show();"
   ]
  },
  {
   "cell_type": "code",
   "execution_count": null,
   "metadata": {},
   "outputs": [],
   "source": [
    "def plot(data):\n",
    "    ax = sns.lineplot(x=data[df_sku['full_name'] == name]['date'],\n",
    "                     y=df_sku[df_sku['full_name'] == name]['price_per_unit'],\n",
    "                     hue=df_sku[df_sku['full_name'] == name]['channel'])\n",
    "    #plt.figure(figsize=[20, 10]) # Set dimensions for figure\n",
    "    ax.set_title(name) #set title;\n",
    "    plt.show();"
   ]
  },
  {
   "cell_type": "markdown",
   "metadata": {},
   "source": [
    "# whether is a promo/promo length/frequency labeling"
   ]
  },
  {
   "cell_type": "code",
   "execution_count": null,
   "metadata": {},
   "outputs": [],
   "source": [
    "display(HTML(labels.to_html()))"
   ]
  },
  {
   "cell_type": "code",
   "execution_count": null,
   "metadata": {},
   "outputs": [],
   "source": [
    "labels['full_name'].drop_duplicates().count()"
   ]
  },
  {
   "cell_type": "code",
   "execution_count": null,
   "metadata": {
    "scrolled": true
   },
   "outputs": [],
   "source": [
    "df_sku = pd.read_csv(\"/project/data_cleaning/imputed2.csv\",index_col=0)\n",
    "labels = pd.read_csv(\"/project/data_for_models/promo_label_new.csv\")\n",
    "labels = labels.drop(['Unnamed: 0'],axis=1)\n",
    "df_sku = df_sku[df_sku['full_name'].isin(labels['full_name'].drop_duplicates().values.tolist())]\n",
    "df_labels = pd.merge(df_sku, labels, on=['full_name','channel'], how='left')\n",
    "df_labels.to_excel(\"/project/data_for_models/df_labels.xlsx\", sheet_name='Sheet1')\n",
    "df_labels"
   ]
  },
  {
   "cell_type": "code",
   "execution_count": null,
   "metadata": {},
   "outputs": [],
   "source": [
    "plotly('BSCTS RCH T MCVTS RCH T PLN 300 GM SNGL',1)"
   ]
  },
  {
   "cell_type": "code",
   "execution_count": null,
   "metadata": {
    "scrolled": false
   },
   "outputs": [],
   "source": [
    "plotly1('JFF CKS DRK CHCLT & ORNG 244 GM SNGL','Figure 1: Price Movement for McVitie\\'s Rich Tea Plain 300g Single Pack')"
   ]
  },
  {
   "cell_type": "code",
   "execution_count": null,
   "metadata": {
    "scrolled": true
   },
   "outputs": [],
   "source": [
    "df_labeled = pd.read_csv(\"/project/data_for_models/df_promo_labeled_new.csv\",index_col=0)\n",
    "df_labeled = df_labeled.drop(['units_sold','kg_sold','treshold','change',\n",
    "             '2nd','Break','Cum.promo1','Cum.promo2','Cum.promo3','Cum.promo4','Cum.promo5','Cum.promo6'\n",
    "             ,'Cum.promo7','Cum.promo8','Cum.promo9','Cum.promo10','Cum.promo11','Cum.promo12','Cum.promo13','Cum.promo14'\n",
    "             ,'Cum.promo15','Cum.promo16','Cum.promo17','Cum.promo18','Cum.promo19','Cum.promo20','Cum.promo21','Cum.promo22'\n",
    "             ,'Cum.promo23'],axis=1)\n",
    "#df_labeled['date'] = pd.to_datetime(df_labeled['date'])\n",
    "column_names = [\"full_name\", \"brand\", \"company\",'Subsegment','flavour','pack_type',\n",
    "                'weight','channel','retailer','format','date','Year','WeekOfYear','Month',\n",
    "                'Sales','distribution','price_per_kg','price_per_unit','promo','Cum.promo.total']\n",
    "df_labeled = df_labeled.reindex(columns=column_names)\n",
    "df_labeled.describe()\n",
    "df_labeled.info()\n",
    "df_labeled.to_excel(\"/project/data_for_models/df_labeled_new.xlsx\", sheet_name='Sheet1')\n",
    "df_labels.drop_duplicates()"
   ]
  },
  {
   "cell_type": "markdown",
   "metadata": {},
   "source": [
    "# promo depth"
   ]
  },
  {
   "cell_type": "code",
   "execution_count": null,
   "metadata": {},
   "outputs": [],
   "source": [
    "#df_labeled = pd.read_csv(\"/project/data_for_models/df_labeled.csv\",index_col=0)\n",
    "promo_label_depth = pd.read_csv(\"/project/data_for_models/promo_label_depth_new.csv\",index_col=0)\n",
    "depth = pd.merge(df_labeled, promo_label_depth, on=['full_name','channel'], how='left')\n",
    "depth.to_excel(\"/project/data_for_models/depth.xlsx\")  "
   ]
  },
  {
   "cell_type": "code",
   "execution_count": null,
   "metadata": {},
   "outputs": [],
   "source": [
    "depth_final = pd.read_csv(\"/project/data_for_models/depth_new.csv\",index_col=0)\n",
    "depth_final = depth_final.drop(['mannual','base0','break_total','date_break1',\n",
    "             'base1','date_break2','base2','date_break3','base3','date_break4','base4'],axis=1)\n",
    "depth_final['date'] = pd.to_datetime(depth_final['date'])\n",
    "depth_final.loc[depth_final.promo==1,'Promo_depth'] = (depth_final['price_per_unit']-depth_final['base_price1'])/depth_final['base_price1']\n",
    "#depth_final.drop_duplicates()\n",
    "depth_final.to_csv(\"/project/data_for_models/df_final.csv\") "
   ]
  },
  {
   "cell_type": "code",
   "execution_count": null,
   "metadata": {},
   "outputs": [],
   "source": [
    "depth_final.info()\n",
    "depth_final.describe()"
   ]
  },
  {
   "cell_type": "code",
   "execution_count": null,
   "metadata": {},
   "outputs": [],
   "source": []
  }
 ],
 "metadata": {
  "kernelspec": {
   "display_name": "Python 3",
   "language": "python",
   "name": "python3"
  },
  "language_info": {
   "codemirror_mode": {
    "name": "ipython",
    "version": 3
   },
   "file_extension": ".py",
   "mimetype": "text/x-python",
   "name": "python",
   "nbconvert_exporter": "python",
   "pygments_lexer": "ipython3",
   "version": "3.8.3"
  },
  "varInspector": {
   "cols": {
    "lenName": 16,
    "lenType": 16,
    "lenVar": 40
   },
   "kernels_config": {
    "python": {
     "delete_cmd_postfix": "",
     "delete_cmd_prefix": "del ",
     "library": "var_list.py",
     "varRefreshCmd": "print(var_dic_list())"
    },
    "r": {
     "delete_cmd_postfix": ") ",
     "delete_cmd_prefix": "rm(",
     "library": "var_list.r",
     "varRefreshCmd": "cat(var_dic_list()) "
    }
   },
   "types_to_exclude": [
    "module",
    "function",
    "builtin_function_or_method",
    "instance",
    "_Feature"
   ],
   "window_display": false
  }
 },
 "nbformat": 4,
 "nbformat_minor": 2
}
